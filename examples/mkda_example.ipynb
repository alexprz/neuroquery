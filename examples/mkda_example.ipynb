{
 "cells": [
  {
   "cell_type": "markdown",
   "metadata": {},
   "source": [
    "# Meta-analysis: an example of use of the MKDA method."
   ]
  },
  {
   "cell_type": "code",
   "execution_count": null,
   "metadata": {},
   "outputs": [],
   "source": [
    "import pandas as pd\n",
    "from nilearn import plotting\n",
    "\n",
    "from neuroquery import datasets\n",
    "from neuroquery.img_utils import coordinates_to_arrs\n",
    "from neuroquery.meta_analysis import MKDA"
   ]
  },
  {
   "cell_type": "code",
   "execution_count": null,
   "metadata": {},
   "outputs": [],
   "source": [
    "# Load the coordinates from the NeuroQuery dataset.\n",
    "coordinates = pd.read_csv(datasets.fetch_peak_coordinates())\n",
    "\n",
    "# Use the coordinates_to_arrs function to get a generator of the dirac maps' arrays\n",
    "iter_arrs, masker = coordinates_to_arrs(coordinates)\n",
    "affine = masker.mask_img_.affine"
   ]
  },
  {
   "cell_type": "code",
   "execution_count": null,
   "metadata": {},
   "outputs": [],
   "source": [
    "# Compute the MKDA maps from the array generator. Since the iter_arrs generate arrays only\n",
    "# we have to pass the affine separatly.\n",
    "mkda_img = MKDA(iter_arrs, affine)"
   ]
  },
  {
   "cell_type": "code",
   "execution_count": null,
   "metadata": {},
   "outputs": [],
   "source": [
    "# Plot the result\n",
    "plotting.view_img(mkda_img, threshold=3.0).open_in_browser()"
   ]
  }
 ],
 "metadata": {
  "jupytext": {
   "cell_metadata_filter": "-all",
   "formats": "ipynb,py:light",
   "main_language": "python",
   "notebook_metadata_filter": "-all"
  },
  "kernelspec": {
   "display_name": "Python 3",
   "language": "python",
   "name": "python3"
  },
  "language_info": {
   "codemirror_mode": {
    "name": "ipython",
    "version": 3
   },
   "file_extension": ".py",
   "mimetype": "text/x-python",
   "name": "python",
   "nbconvert_exporter": "python",
   "pygments_lexer": "ipython3",
   "version": "3.7.4"
  }
 },
 "nbformat": 4,
 "nbformat_minor": 2
}
